{
 "cells": [
  {
   "cell_type": "code",
   "execution_count": null,
   "id": "1eb43f52",
   "metadata": {},
   "outputs": [],
   "source": [
    "#!pip install torch torchvision torchaudio"
   ]
  },
  {
   "cell_type": "code",
   "execution_count": null,
   "id": "791ece91",
   "metadata": {},
   "outputs": [],
   "source": [
    "#!pip install ultralytics --upgrade"
   ]
  },
  {
   "cell_type": "code",
   "execution_count": null,
   "id": "042940ea",
   "metadata": {
    "scrolled": true
   },
   "outputs": [],
   "source": [
    "!git clone https://github.com/ultralytics/yolov5"
   ]
  },
  {
   "cell_type": "code",
   "execution_count": null,
   "id": "afb97b00",
   "metadata": {
    "scrolled": true
   },
   "outputs": [],
   "source": [
    "!cd yolov5 && pip install -r requirements.txt "
   ]
  },
  {
   "cell_type": "code",
   "execution_count": null,
   "id": "80f2326a",
   "metadata": {},
   "outputs": [],
   "source": [
    "import torch\n",
    "import cv2\n",
    "import numpy as np\n",
    "import matplotlib.pyplot as plt\n",
    "import os\n",
    "import uuid\n",
    "import time"
   ]
  },
  {
   "cell_type": "code",
   "execution_count": null,
   "id": "4ea39572",
   "metadata": {},
   "outputs": [],
   "source": [
    "model=torch.hub.load('ultralytics/yolov5','yolov5s')"
   ]
  },
  {
   "cell_type": "code",
   "execution_count": null,
   "id": "e6c0c736",
   "metadata": {},
   "outputs": [],
   "source": [
    "model"
   ]
  },
  {
   "cell_type": "code",
   "execution_count": null,
   "id": "ef172ae5",
   "metadata": {},
   "outputs": [],
   "source": [
    "image='https://static01.nyt.com/images/2010/10/10/us/10google2/10google2-jumbo.jpg?quality=75&auto=webp&disable=upscale'"
   ]
  },
  {
   "cell_type": "code",
   "execution_count": null,
   "id": "7e0c5d46",
   "metadata": {},
   "outputs": [],
   "source": [
    "result=model(image)\n",
    "result.print()"
   ]
  },
  {
   "cell_type": "code",
   "execution_count": null,
   "id": "b7d39e3b",
   "metadata": {},
   "outputs": [],
   "source": [
    "%matplotlib inline\n",
    "plt.axis('off')\n",
    "plt.imshow(np.squeeze(result.render()))\n",
    "plt.show()"
   ]
  },
  {
   "cell_type": "code",
   "execution_count": null,
   "id": "52e64d21",
   "metadata": {},
   "outputs": [],
   "source": [
    "images_path=os.path.join('data','images')\n",
    "labels=['awake','drowsy']\n",
    "labels_path=os.path.join('data','labels')"
   ]
  },
  {
   "cell_type": "code",
   "execution_count": null,
   "id": "fc0d6f2a",
   "metadata": {},
   "outputs": [],
   "source": [
    "if not os.path.exists(images_path):\n",
    "    os.makedirs(images_path)\n",
    "if not os.path.exists(labels_path):\n",
    "    os.makedirs(labels_path)"
   ]
  },
  {
   "cell_type": "code",
   "execution_count": null,
   "id": "04e40e22",
   "metadata": {},
   "outputs": [],
   "source": [
    "cap=cv2.VideoCapture(0)\n",
    "while cap.isOpened():\n",
    "    \n",
    "    ret, frame=cap.read()\n",
    "    \n",
    "    if cv2.waitKey(1) & 0xFF==ord('a'):\n",
    "        print(f'Collecting images for {labels[0]}')\n",
    "        image_name=os.path.join(images_path,labels[0]+'-'+str(uuid.uuid1())+'.jpg')\n",
    "        cv2.imwrite(image_name,frame)\n",
    "        \n",
    "        \n",
    "    if cv2.waitKey(1) & 0xFF==ord('d'):\n",
    "        print(f'Collecting images for {labels[1]}')\n",
    "        image_name=os.path.join(images_path,labels[1]+'-'+str(uuid.uuid1())+'.jpg')\n",
    "        cv2.imwrite(image_name,frame)\n",
    "    \n",
    "    cv2.imshow('web camera',frame)\n",
    "    if cv2.waitKey(1) & 0xFF==ord('q'):\n",
    "        break\n",
    "cap.release()\n",
    "cv2.destroyAllWindows()"
   ]
  },
  {
   "cell_type": "code",
   "execution_count": null,
   "id": "1ba56db9",
   "metadata": {},
   "outputs": [],
   "source": [
    "!cd yolov5 && python train.py --img 320 --batch 8  --epochs 5 --data dataset.yml --weights yolov5s.pt --workers 2"
   ]
  },
  {
   "cell_type": "code",
   "execution_count": null,
   "id": "09b6b1bc",
   "metadata": {},
   "outputs": [],
   "source": [
    "model = torch.hub.load('ultralytics/yolov5', 'custom', path=r'yolov5/runs/train/exp6/weights/last.pt', force_reload=True)"
   ]
  },
  {
   "cell_type": "code",
   "execution_count": null,
   "id": "8a3bbf3b",
   "metadata": {},
   "outputs": [],
   "source": [
    "image=r'data\\images\\awake-5df3a871-ede1-11ed-a63b-204747c557f5.jpg'"
   ]
  },
  {
   "cell_type": "code",
   "execution_count": null,
   "id": "e5c0c4c9",
   "metadata": {},
   "outputs": [],
   "source": [
    "result=model(image)"
   ]
  },
  {
   "cell_type": "code",
   "execution_count": null,
   "id": "585b534f",
   "metadata": {},
   "outputs": [],
   "source": [
    "result.print()"
   ]
  },
  {
   "cell_type": "code",
   "execution_count": null,
   "id": "543e749c",
   "metadata": {},
   "outputs": [],
   "source": [
    "cap=cv2.VideoCapture(0)\n",
    "while cap.isOpened():\n",
    "    ret,frame=cap.read()\n",
    "    \n",
    "    result=model(frame)\n",
    "    \n",
    "    cv2.imshow('YOLOv5',np.squeeze(result.render()))\n",
    "    if cv2.waitKey(1) & 0xFF ==ord('q'):\n",
    "        break\n",
    "            \n",
    "cap.release()\n",
    "cv2.destroyAllWindows()"
   ]
  },
  {
   "cell_type": "code",
   "execution_count": null,
   "id": "6ebe97c0",
   "metadata": {},
   "outputs": [],
   "source": []
  }
 ],
 "metadata": {
  "kernelspec": {
   "display_name": "Python 3 (ipykernel)",
   "language": "python",
   "name": "python3"
  },
  "language_info": {
   "codemirror_mode": {
    "name": "ipython",
    "version": 3
   },
   "file_extension": ".py",
   "mimetype": "text/x-python",
   "name": "python",
   "nbconvert_exporter": "python",
   "pygments_lexer": "ipython3",
   "version": "3.9.13"
  }
 },
 "nbformat": 4,
 "nbformat_minor": 5
}
